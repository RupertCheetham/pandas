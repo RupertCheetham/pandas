{
 "cells": [
  {
   "cell_type": "markdown",
   "metadata": {},
   "source": [
    "This set of exercises focuses on using Pandas, a powerful library for data manipulation and analysis in Python. You'll learn to create and manipulate DataFrames, work with real-world datasets, handle missing values, and perform various data operations. The exercises cover key Pandas functionalities including data loading, cleaning, transformation, and basic analysis."
   ]
  },
  {
   "cell_type": "code",
   "execution_count": 2,
   "metadata": {},
   "outputs": [
    {
     "name": "stdout",
     "output_type": "stream",
     "text": [
      "2.2.2\n"
     ]
    }
   ],
   "source": [
    "import pandas as pd\n",
    "\n",
    "import numpy as np\n",
    "print(np.__version__)\n"
   ]
  },
  {
   "cell_type": "code",
   "execution_count": null,
   "metadata": {},
   "outputs": [
    {
     "name": "stdout",
     "output_type": "stream",
     "text": [
      "1.1\n",
      "NumPy:\n",
      "DataFrame from NumPy array:\n",
      "   color     list number\n",
      "1   Blue   [1, 2]    1.1\n",
      "3    Red   [3, 4]    2.2\n",
      "5   Pink   [5, 6]    3.3\n",
      "7   Grey   [7, 8]    4.4\n",
      "9  Black  [9, 10]    5.5\n",
      "\n",
      "DataFrame from Pandas Series:\n",
      "   color     list  number\n",
      "1   Blue   [1, 2]     1.1\n",
      "3    Red   [3, 4]     2.2\n",
      "5   Pink   [5, 6]     3.3\n",
      "7   Grey   [7, 8]     4.4\n",
      "9  Black  [9, 10]     5.5 \n",
      "\n",
      "1.2\n",
      "irst value types:\n",
      "<class 'pandas.core.series.Series'>\n",
      "<class 'pandas.core.series.Series'>\n",
      "<class 'pandas.core.series.Series'>\n",
      "\n",
      "First value types:\n",
      "<class 'str'> <class 'list'> <class 'numpy.float64'>\n"
     ]
    }
   ],
   "source": [
    "# 1.1\n",
    "print(1.1)\n",
    "print(\"NumPy:\")\n",
    "# Create a NumPy array\n",
    "data_np = np.array([\n",
    "    [\"Blue\", [1, 2], 1.1],\n",
    "    [\"Red\", [3, 4], 2.2],\n",
    "    [\"Pink\", [5, 6], 3.3],\n",
    "    [\"Grey\", [7, 8], 4.4],\n",
    "    [\"Black\", [9, 10], 5.5]\n",
    "], dtype=object)\n",
    "\n",
    "# Create DataFrame\n",
    "df_np = pd.DataFrame(\n",
    "    data_np,\n",
    "    columns=[\"color\", \"list\", \"number\"],\n",
    "    index=[1, 3, 5, 7, 9]\n",
    "    )\n",
    "\n",
    "print(\"DataFrame from NumPy array:\")\n",
    "print(df_np)\n",
    "\n",
    "# Create Series\n",
    "colors = pd.Series([\"Blue\", \"Red\", \"Pink\", \"Grey\", \"Black\"], index=[1, 3, 5, 7, 9])\n",
    "lists = pd.Series([[1, 2], [3, 4], [5, 6], [7, 8], [9, 10]], index=[1, 3, 5, 7, 9])\n",
    "numbers = pd.Series([1.1, 2.2, 3.3, 4.4, 5.5], index=[1, 3, 5, 7, 9])\n",
    "\n",
    "# Create DataFrame\n",
    "df_series = pd.DataFrame({\"color\": colors, \"list\": lists, \"number\": numbers})\n",
    "\n",
    "print(\"\\nDataFrame from Pandas Series:\")\n",
    "print(df_series, \"\\n\")\n",
    "\n",
    "# 1.2\n",
    "print(1.2)\n",
    "print(\"First value types:\")\n",
    "print(type(df_series[\"color\"]))  \n",
    "print(type(df_series[\"list\"]))  \n",
    "print(type(df_series[\"number\"])) \n",
    "\n",
    "print(\"\\nFirst value types:\")\n",
    "df_np[\"number\"] = df_np[\"number\"].astype(np.float64)\n",
    "print(type(df_np.iloc[0, 0]), type(df_np.iloc[0, 1]), type(df_np.iloc[0, 2]))\n",
    "\n"
   ]
  },
  {
   "cell_type": "code",
   "execution_count": 32,
   "metadata": {},
   "outputs": [
    {
     "name": "stdout",
     "output_type": "stream",
     "text": [
      "               Date      Time  Global_active_power  Global_reactive_power  \\\n",
      "0        16/12/2006  17:24:00                4.216                  0.418   \n",
      "1        16/12/2006  17:25:00                5.360                  0.436   \n",
      "2        16/12/2006  17:26:00                5.374                  0.498   \n",
      "3        16/12/2006  17:27:00                5.388                  0.502   \n",
      "4        16/12/2006  17:28:00                3.666                  0.528   \n",
      "...             ...       ...                  ...                    ...   \n",
      "2075254  26/11/2010  20:58:00                0.946                  0.000   \n",
      "2075255  26/11/2010  20:59:00                0.944                  0.000   \n",
      "2075256  26/11/2010  21:00:00                0.938                  0.000   \n",
      "2075257  26/11/2010  21:01:00                0.934                  0.000   \n",
      "2075258  26/11/2010  21:02:00                0.932                  0.000   \n",
      "\n",
      "         Voltage Global_intensity Sub_metering_1 Sub_metering_2  \\\n",
      "0         234.84           18.400          0.000          1.000   \n",
      "1         233.63           23.000          0.000          1.000   \n",
      "2         233.29           23.000          0.000          2.000   \n",
      "3         233.74           23.000          0.000          1.000   \n",
      "4         235.68           15.800          0.000          1.000   \n",
      "...          ...              ...            ...            ...   \n",
      "2075254   240.43            4.000          0.000          0.000   \n",
      "2075255   240.00            4.000          0.000          0.000   \n",
      "2075256   239.82            3.800          0.000          0.000   \n",
      "2075257   239.70            3.800          0.000          0.000   \n",
      "2075258   239.55            3.800          0.000          0.000   \n",
      "\n",
      "         Sub_metering_3  \n",
      "0                  17.0  \n",
      "1                  16.0  \n",
      "2                  17.0  \n",
      "3                  17.0  \n",
      "4                  17.0  \n",
      "...                 ...  \n",
      "2075254             0.0  \n",
      "2075255             0.0  \n",
      "2075256             0.0  \n",
      "2075257             0.0  \n",
      "2075258             0.0  \n",
      "\n",
      "[2075259 rows x 9 columns]\n",
      "            Global_active_power  Global_reactive_power  Voltage  \\\n",
      "Date                                                              \n",
      "16/12/2006                4.216                  0.418   234.84   \n",
      "16/12/2006                5.360                  0.436   233.63   \n",
      "16/12/2006                5.374                  0.498   233.29   \n",
      "16/12/2006                5.388                  0.502   233.74   \n",
      "16/12/2006                3.666                  0.528   235.68   \n",
      "\n",
      "           Global_intensity Sub_metering_1  \n",
      "Date                                        \n",
      "16/12/2006           18.400          0.000  \n",
      "16/12/2006           23.000          0.000  \n",
      "16/12/2006           23.000          0.000  \n",
      "16/12/2006           23.000          0.000  \n",
      "16/12/2006           15.800          0.000  \n",
      "2.1\n"
     ]
    }
   ],
   "source": [
    "\n",
    "url = \"https://assets.01-edu.org/ai-branch/piscine-ai/household_power_consumption.txt\"\n",
    "# Load the dataset\n",
    "df = pd.read_csv(url, delimiter=\";\", low_memory=False)\n",
    "df[\"Global_active_power\"] = pd.to_numeric(df[\"Global_active_power\"], errors=\"coerce\")\n",
    "df[\"Global_reactive_power\"] = pd.to_numeric(df[\"Global_reactive_power\"], errors=\"coerce\")\n",
    "df[\"Voltage\"] = pd.to_numeric(df[\"Voltage\"], errors=\"coerce\")\n",
    "\n",
    "print(2.1)\n",
    "# Drop unnecessary columns\n",
    "df.drop(columns=[\"Time\", \"Sub_metering_2\", \"Sub_metering_3\"], inplace=True)\n",
    "print(2.2)\n",
    "# Set 'Date' as the index\n",
    "df = df.set_index(\"Date\")\n",
    "\n",
    "# Display the first few rows\n",
    "print(df.head())\n",
    "\n",
    "\n",
    "# 2.1\n",
    "print(2.1)\n",
    "\n"
   ]
  }
 ],
 "metadata": {
  "kernelspec": {
   "display_name": ".ex00",
   "language": "python",
   "name": "python3"
  },
  "language_info": {
   "codemirror_mode": {
    "name": "ipython",
    "version": 3
   },
   "file_extension": ".py",
   "mimetype": "text/x-python",
   "name": "python",
   "nbconvert_exporter": "python",
   "pygments_lexer": "ipython3",
   "version": "3.12.3"
  }
 },
 "nbformat": 4,
 "nbformat_minor": 2
}
