{
 "cells": [
  {
   "cell_type": "markdown",
   "metadata": {},
   "source": [
    "This set of exercises focuses on using Pandas, a powerful library for data manipulation and analysis in Python. You'll learn to create and manipulate DataFrames, work with real-world datasets, handle missing values, and perform various data operations. The exercises cover key Pandas functionalities including data loading, cleaning, transformation, and basic analysis."
   ]
  },
  {
   "cell_type": "code",
   "execution_count": 30,
   "metadata": {},
   "outputs": [
    {
     "name": "stdout",
     "output_type": "stream",
     "text": [
      "2.2.2\n"
     ]
    }
   ],
   "source": [
    "import pandas as pd\n",
    "\n",
    "import numpy as np\n",
    "print(np.__version__)\n"
   ]
  },
  {
   "cell_type": "code",
   "execution_count": 31,
   "metadata": {},
   "outputs": [
    {
     "name": "stdout",
     "output_type": "stream",
     "text": [
      "1.1\n",
      "NumPy:\n",
      "DataFrame from NumPy array:\n",
      "   color     list number\n",
      "1   Blue   [1, 2]    1.1\n",
      "3    Red   [3, 4]    2.2\n",
      "5   Pink   [5, 6]    3.3\n",
      "7   Grey   [7, 8]    4.4\n",
      "9  Black  [9, 10]    5.5\n",
      "\n",
      "DataFrame from Pandas Series:\n",
      "   color     list  number\n",
      "1   Blue   [1, 2]     1.1\n",
      "3    Red   [3, 4]     2.2\n",
      "5   Pink   [5, 6]     3.3\n",
      "7   Grey   [7, 8]     4.4\n",
      "9  Black  [9, 10]     5.5 \n",
      "\n",
      "1.2\n",
      "First value types:\n",
      "<class 'pandas.core.series.Series'>\n",
      "<class 'pandas.core.series.Series'>\n",
      "<class 'pandas.core.series.Series'>\n",
      "\n",
      "First value types:\n",
      "<class 'str'> <class 'list'> <class 'numpy.float64'>\n"
     ]
    }
   ],
   "source": [
    "# 1.1\n",
    "print(1.1)\n",
    "print(\"NumPy:\")\n",
    "# Create a NumPy array\n",
    "data_np = np.array([\n",
    "    [\"Blue\", [1, 2], 1.1],\n",
    "    [\"Red\", [3, 4], 2.2],\n",
    "    [\"Pink\", [5, 6], 3.3],\n",
    "    [\"Grey\", [7, 8], 4.4],\n",
    "    [\"Black\", [9, 10], 5.5]\n",
    "], dtype=object)\n",
    "\n",
    "# Create DataFrame\n",
    "df_np = pd.DataFrame(\n",
    "    data_np,\n",
    "    columns=[\"color\", \"list\", \"number\"],\n",
    "    index=[1, 3, 5, 7, 9]\n",
    "    )\n",
    "\n",
    "print(\"DataFrame from NumPy array:\")\n",
    "print(df_np)\n",
    "\n",
    "# Create Series\n",
    "colors = pd.Series([\"Blue\", \"Red\", \"Pink\", \"Grey\", \"Black\"], index=[1, 3, 5, 7, 9])\n",
    "lists = pd.Series([[1, 2], [3, 4], [5, 6], [7, 8], [9, 10]], index=[1, 3, 5, 7, 9])\n",
    "numbers = pd.Series([1.1, 2.2, 3.3, 4.4, 5.5], index=[1, 3, 5, 7, 9])\n",
    "\n",
    "# Create DataFrame\n",
    "df_series = pd.DataFrame({\"color\": colors, \"list\": lists, \"number\": numbers})\n",
    "\n",
    "print(\"\\nDataFrame from Pandas Series:\")\n",
    "print(df_series, \"\\n\")\n",
    "\n",
    "# 1.2\n",
    "print(1.2)\n",
    "print(\"First value types:\")\n",
    "print(type(df_series[\"color\"]))  \n",
    "print(type(df_series[\"list\"]))  \n",
    "print(type(df_series[\"number\"])) \n",
    "\n",
    "print(\"\\nFirst value types:\")\n",
    "df_np[\"number\"] = df_np[\"number\"].astype(np.float64)\n",
    "print(type(df_np.iloc[0, 0]), type(df_np.iloc[0, 1]), type(df_np.iloc[0, 2]))\n",
    "\n"
   ]
  },
  {
   "cell_type": "code",
   "execution_count": 32,
   "metadata": {},
   "outputs": [
    {
     "name": "stdout",
     "output_type": "stream",
     "text": [
      "2.1\n",
      "The axis parameter defaults to axis=1 for columns, so there's no need to explicitly specify it.\n",
      "\n",
      "2.2\n",
      "DatetimeIndex(['2006-12-16', '2006-12-16', '2006-12-16', '2006-12-16',\n",
      "               '2006-12-16'],\n",
      "              dtype='datetime64[ns]', name='Date', freq=None)\n"
     ]
    }
   ],
   "source": [
    "\n",
    "# Exercise 2: Electric power consumption\n",
    "\n",
    "url = \"https://assets.01-edu.org/ai-branch/piscine-ai/household_power_consumption.txt\"\n",
    "# Load the dataset\n",
    "df = pd.read_csv(url, delimiter=\";\", low_memory=False)\n",
    "df[\"Global_active_power\"] = pd.to_numeric(df[\"Global_active_power\"], errors=\"coerce\")\n",
    "df[\"Global_reactive_power\"] = pd.to_numeric(df[\"Global_reactive_power\"], errors=\"coerce\")\n",
    "df[\"Voltage\"] = pd.to_numeric(df[\"Voltage\"], errors=\"coerce\")\n",
    "\n",
    "\n",
    "\n",
    "\n",
    "# Delete the columns Time, Sub_metering_2 and Sub_metering_3\n",
    "print(2.1)\n",
    "df.drop(columns=[\"Time\", \"Sub_metering_2\", \"Sub_metering_3\"], inplace=True)\n",
    "print(\"The axis parameter defaults to axis=1 for columns, so there's no need to explicitly specify it.\")\n",
    "\n",
    "# Set Date as index\n",
    "print(\"\\n2.2\")\n",
    "# Convert 'Date' to datetime\n",
    "df[\"Date\"] = pd.to_datetime(df[\"Date\"], format=\"%d/%m/%Y\")\n",
    "# Set 'Date' as the index\n",
    "df.set_index(\"Date\", inplace=True)\n",
    "print(df.head().index)\n",
    "\n"
   ]
  },
  {
   "cell_type": "code",
   "execution_count": 33,
   "metadata": {},
   "outputs": [
    {
     "name": "stdout",
     "output_type": "stream",
     "text": [
      "2.3\n",
      "Global_active_power      float64\n",
      "Global_reactive_power    float64\n",
      "Voltage                  float64\n",
      "Global_intensity         float64\n",
      "Sub_metering_1           float64\n",
      "dtype: object\n"
     ]
    }
   ],
   "source": [
    "# Create a function that takes as input the DataFrame with the data set and returns a DataFrame with updated types:\n",
    "print(2.3)\n",
    "\n",
    "def update_types(df):\n",
    "    # Convert specific columns to their correct types\n",
    "    df[\"Global_active_power\"] = pd.to_numeric(df[\"Global_active_power\"], errors=\"coerce\")\n",
    "    df[\"Global_reactive_power\"] = pd.to_numeric(df[\"Global_reactive_power\"], errors=\"coerce\")\n",
    "    df[\"Global_intensity\"] = pd.to_numeric(df[\"Global_intensity\"], errors=\"coerce\")\n",
    "    df[\"Sub_metering_1\"] = pd.to_numeric(df[\"Sub_metering_1\"], errors=\"coerce\")\n",
    "    \n",
    "    return df\n",
    "\n",
    "df = update_types(df)\n",
    "print(df.dtypes)"
   ]
  },
  {
   "cell_type": "code",
   "execution_count": 34,
   "metadata": {},
   "outputs": [
    {
     "name": "stdout",
     "output_type": "stream",
     "text": [
      "2.4\n",
      "       Global_active_power  Global_reactive_power       Voltage  \\\n",
      "count         2.049280e+06           2.049280e+06  2.049280e+06   \n",
      "mean          1.091615e+00           1.237145e-01  2.408399e+02   \n",
      "std           1.057294e+00           1.127220e-01  3.239987e+00   \n",
      "min           7.600000e-02           0.000000e+00  2.232000e+02   \n",
      "25%           3.080000e-01           4.800000e-02  2.389900e+02   \n",
      "50%           6.020000e-01           1.000000e-01  2.410100e+02   \n",
      "75%           1.528000e+00           1.940000e-01  2.428900e+02   \n",
      "max           1.112200e+01           1.390000e+00  2.541500e+02   \n",
      "\n",
      "       Global_intensity  Sub_metering_1  \n",
      "count      2.049280e+06    2.049280e+06  \n",
      "mean       4.627759e+00    1.121923e+00  \n",
      "std        4.444396e+00    6.153031e+00  \n",
      "min        2.000000e-01    0.000000e+00  \n",
      "25%        1.400000e+00    0.000000e+00  \n",
      "50%        2.600000e+00    0.000000e+00  \n",
      "75%        6.400000e+00    0.000000e+00  \n",
      "max        4.840000e+01    8.800000e+01  \n"
     ]
    }
   ],
   "source": [
    "# Use describe to have an overview on the data set\n",
    "print(2.4)\n",
    "\n",
    "print(df.describe())\n"
   ]
  },
  {
   "cell_type": "code",
   "execution_count": 35,
   "metadata": {},
   "outputs": [
    {
     "name": "stdout",
     "output_type": "stream",
     "text": [
      "2.5\n",
      "number of missing values before dropna is: Global_active_power      25979\n",
      "Global_reactive_power    25979\n",
      "Voltage                  25979\n",
      "Global_intensity         25979\n",
      "Sub_metering_1           25979\n",
      "dtype: int64 \n",
      "\n",
      "number of missing values after dropna is: Global_active_power      0\n",
      "Global_reactive_power    0\n",
      "Voltage                  0\n",
      "Global_intensity         0\n",
      "Sub_metering_1           0\n",
      "dtype: int64\n"
     ]
    }
   ],
   "source": [
    "# Delete the rows with missing values\n",
    "print(2.5)\n",
    "print(\"number of missing values before dropna is:\", df.isna().sum(), \"\\n\")\n",
    "df.dropna(inplace=True)\n",
    "print(\"number of missing values after dropna is:\", df.isna().sum())"
   ]
  },
  {
   "cell_type": "code",
   "execution_count": 36,
   "metadata": {},
   "outputs": [
    {
     "name": "stdout",
     "output_type": "stream",
     "text": [
      "2.6\n",
      "Date\n",
      "2006-12-16    0.06\n",
      "2006-12-16    0.06\n",
      "2006-12-16    0.06\n",
      "2006-12-16    0.06\n",
      "2006-12-16    0.06\n",
      "              ... \n",
      "2010-11-26    0.06\n",
      "2010-11-26    0.06\n",
      "2010-11-26    0.06\n",
      "2010-11-26    0.06\n",
      "2010-11-26    0.06\n",
      "Name: Sub_metering_1, Length: 2049280, dtype: float64\n"
     ]
    }
   ],
   "source": [
    "# Modify Sub_metering_1 by adding 1 to it and multiplying the total by 0.06. If x is a row the output is: (x+1)*0.06\n",
    "print(2.6)\n",
    "df.loc[:,'Sub_metering_1'] = (df['Sub_metering_1'] + 1) * 0.06\n",
    "\n",
    "print(df.loc[:,'Sub_metering_1'])"
   ]
  },
  {
   "cell_type": "code",
   "execution_count": 48,
   "metadata": {},
   "outputs": [
    {
     "name": "stdout",
     "output_type": "stream",
     "text": [
      "2.7\n",
      "| Date                |   Global_active_power |   Global_reactive_power |   Voltage |   Global_intensity |   Sub_metering_1 |\n",
      "|:--------------------|----------------------:|------------------------:|----------:|-------------------:|-----------------:|\n",
      "| 2008-12-27 00:00:00 |                 0.996 |                   0.066 |    244.81 |                4   |             0.06 |\n",
      "| 2008-12-27 00:00:00 |                 1.076 |                   0.162 |    244.78 |                4.4 |             0.06 |\n",
      "| 2008-12-27 00:00:00 |                 1.064 |                   0.172 |    244.74 |                4.4 |             0.06 |\n",
      "| 2008-12-27 00:00:00 |                 1.07  |                   0.174 |    245.28 |                4.4 |             0.06 |\n",
      "| 2008-12-27 00:00:00 |                 0.804 |                   0.184 |    246.3  |                3.4 |             0.06 |\n",
      "\n",
      "umber of rows in filtered_df is:  449667\n"
     ]
    }
   ],
   "source": [
    "# Select all the rows for which the Date is greater or equal than 2008-12-27 and Voltage is greater or equal than 242\n",
    "print(2.7)\n",
    "# Ensure index is in datetime format\n",
    "df.index = pd.to_datetime(df.index, format=\"%d/%m/%Y\")\n",
    "\n",
    "# Filter rows where Date >= '2008-12-27' and Voltage >= 242\n",
    "filtered_df = df.loc[(df.index >= \"2008-12-27\") & (df[\"Voltage\"] >= 242)]\n",
    "\n",
    "print(filtered_df.head().to_markdown())\n",
    "print(\"\\nNumber of rows in filtered_df is: \", len(filtered_df))\n"
   ]
  },
  {
   "cell_type": "code",
   "execution_count": 50,
   "metadata": {},
   "outputs": [
    {
     "name": "stdout",
     "output_type": "stream",
     "text": [
      "2.8\n",
      "Global_active_power        0.254\n",
      "Global_reactive_power      0.000\n",
      "Voltage                  238.100\n",
      "Global_intensity           1.200\n",
      "Sub_metering_1             0.060\n",
      "Name: 2007-02-16 00:00:00, dtype: float64\n"
     ]
    }
   ],
   "source": [
    "# Print the 88888th row.\n",
    "print(2.8)\n",
    "\n",
    "print(df.iloc[88887])"
   ]
  },
  {
   "cell_type": "code",
   "execution_count": 57,
   "metadata": {},
   "outputs": [
    {
     "name": "stdout",
     "output_type": "stream",
     "text": [
      "2.9\n",
      "2009-02-22 00:00:00\n"
     ]
    }
   ],
   "source": [
    "# What is the date for which the Global_active_power is maximal ?\n",
    "print(2.9)\n",
    "\n",
    "# Find the date with the maximal value for 'Global_active_power'\n",
    "max_global_active_power_row = df.loc[df[\"Global_active_power\"].idxmax()]\n",
    "\n",
    "# Extract the date corresponding to the maximal global active power\n",
    "max_global_active_power_date = max_global_active_power_row.index\n",
    "print(max_global_active_power_date[0])\n"
   ]
  },
  {
   "cell_type": "code",
   "execution_count": 67,
   "metadata": {},
   "outputs": [
    {
     "name": "stdout",
     "output_type": "stream",
     "text": [
      "2.1\n",
      "| Date                |   Global_active_power |   Global_reactive_power |   Voltage |\n",
      "|:--------------------|----------------------:|------------------------:|----------:|\n",
      "| 2008-08-28 00:00:00 |                 0.076 |                       0 |    234.88 |\n",
      "| 2008-08-28 00:00:00 |                 0.076 |                       0 |    235.18 |\n",
      "| 2008-08-28 00:00:00 |                 0.076 |                       0 |    235.4  |\n",
      "| 2008-08-28 00:00:00 |                 0.076 |                       0 |    235.64 |\n",
      "| 2008-08-12 00:00:00 |                 0.076 |                       0 |    236.5  |\n"
     ]
    }
   ],
   "source": [
    "# Sort the first three columns by descending order of Global_active_power and ascending order of Voltage.\n",
    "print(2.10)\n",
    "\n",
    "first_three_columns = df.iloc[:, :3]\n",
    "# Sort the first three columns by descending order of 'Global_active_power' and ascending order of 'Voltage'\n",
    "sorted_df = first_three_columns.sort_values(by=[\"Global_active_power\", \"Voltage\"], ascending=[False, True])\n",
    "\n",
    "print(sorted_df.tail().to_markdown())\n",
    "\n"
   ]
  },
  {
   "cell_type": "code",
   "execution_count": 68,
   "metadata": {},
   "outputs": [
    {
     "name": "stdout",
     "output_type": "stream",
     "text": [
      "2.11\n",
      "Date\n",
      "2006-12-16    3.053475\n",
      "2006-12-17    2.354486\n",
      "2006-12-18    1.530435\n",
      "2006-12-19    1.157079\n",
      "2006-12-20    1.545658\n",
      "                ...   \n",
      "2010-11-22    1.417733\n",
      "2010-11-23    1.095511\n",
      "2010-11-24    1.247394\n",
      "2010-11-25    0.993864\n",
      "2010-11-26    1.178230\n",
      "Freq: D, Name: Global_active_power, Length: 1442, dtype: float64\n"
     ]
    }
   ],
   "source": [
    "# Compute the daily average of Global_active_power.\n",
    "print(2.11)\n",
    "# Compute the daily average of 'Global_active_power'\n",
    "daily_avg = df['Global_active_power'].resample('D').mean()\n",
    "\n",
    "# Print the result\n",
    "print(daily_avg)\n"
   ]
  },
  {
   "cell_type": "code",
   "execution_count": 100,
   "metadata": {},
   "outputs": [
    {
     "name": "stdout",
     "output_type": "stream",
     "text": [
      "<!DOCTYPE html>\n",
      "<html lang=\"en-US\" class=\"theme-\">\n",
      "<head>\n",
      "\t<meta charset=\"utf-8\">\n",
      "\t<meta name=\"viewport\" content=\"width=device-width, initial-scale=1\">\n",
      "\t<title>file.title%!(EXTRA string=public/Ecommerce_purchases.txt, string=master) -  public - Gitea</title>\n",
      "\t<link rel=\"manifest\" href=\"data:application/json;base64,eyJuYW1lIjoiR2l0ZWEiLCJzaG9ydF9uYW1lIjoiR2l0ZWEiLCJzdGFydF91cmwiOiJodHRwczovL2xlYXJuLjAxZm91bmRlcnMuY28vZ2l0LyIsImljb25zIjpbeyJzcmMiOiJodHRwczovL2xlYXJuLjAxZm91bmRlcnMuY28vZ2l0L2Fzc2V0\n"
     ]
    },
    {
     "ename": "ParserError",
     "evalue": "Error tokenizing data. C error: Expected 1 fields in line 5, saw 2\n",
     "output_type": "error",
     "traceback": [
      "\u001b[0;31m---------------------------------------------------------------------------\u001b[0m",
      "\u001b[0;31mParserError\u001b[0m                               Traceback (most recent call last)",
      "Cell \u001b[0;32mIn[100], line 19\u001b[0m\n\u001b[1;32m     13\u001b[0m \u001b[38;5;28mprint\u001b[39m(response\u001b[38;5;241m.\u001b[39mtext[:\u001b[38;5;241m500\u001b[39m])  \u001b[38;5;66;03m# Print first 500 characters to inspect the format\u001b[39;00m\n\u001b[1;32m     16\u001b[0m \u001b[38;5;66;03m# Use StringIO to treat the content as a file-like object for pandas to read\u001b[39;00m\n\u001b[1;32m     17\u001b[0m \u001b[38;5;66;03m# Specify quoting=csv.QUOTE_MINIMAL to handle multiline fields and ensure proper quoting\u001b[39;00m\n\u001b[1;32m     18\u001b[0m \u001b[38;5;66;03m# Read the response into a pandas dataframe\u001b[39;00m\n\u001b[0;32m---> 19\u001b[0m ecommerce_df \u001b[38;5;241m=\u001b[39m \u001b[43mpd\u001b[49m\u001b[38;5;241;43m.\u001b[39;49m\u001b[43mread_csv\u001b[49m\u001b[43m(\u001b[49m\u001b[43mStringIO\u001b[49m\u001b[43m(\u001b[49m\u001b[43mresponse\u001b[49m\u001b[38;5;241;43m.\u001b[39;49m\u001b[43mtext\u001b[49m\u001b[43m)\u001b[49m\u001b[43m,\u001b[49m\u001b[43m \u001b[49m\u001b[43mdelimiter\u001b[49m\u001b[38;5;241;43m=\u001b[39;49m\u001b[38;5;124;43m\"\u001b[39;49m\u001b[38;5;124;43m,\u001b[39;49m\u001b[38;5;124;43m\"\u001b[39;49m\u001b[43m)\u001b[49m\n\u001b[1;32m     22\u001b[0m \u001b[38;5;66;03m# Check the number of rows\u001b[39;00m\n\u001b[1;32m     23\u001b[0m \u001b[38;5;28mprint\u001b[39m(\u001b[38;5;124m\"\u001b[39m\u001b[38;5;124mNumber of rows (if this number isnt 10000 then youve failed):\u001b[39m\u001b[38;5;124m\"\u001b[39m)\n",
      "File \u001b[0;32m~/Documents/01Founders/pandas/.ex00/lib/python3.12/site-packages/pandas/io/parsers/readers.py:1026\u001b[0m, in \u001b[0;36mread_csv\u001b[0;34m(filepath_or_buffer, sep, delimiter, header, names, index_col, usecols, dtype, engine, converters, true_values, false_values, skipinitialspace, skiprows, skipfooter, nrows, na_values, keep_default_na, na_filter, verbose, skip_blank_lines, parse_dates, infer_datetime_format, keep_date_col, date_parser, date_format, dayfirst, cache_dates, iterator, chunksize, compression, thousands, decimal, lineterminator, quotechar, quoting, doublequote, escapechar, comment, encoding, encoding_errors, dialect, on_bad_lines, delim_whitespace, low_memory, memory_map, float_precision, storage_options, dtype_backend)\u001b[0m\n\u001b[1;32m   1013\u001b[0m kwds_defaults \u001b[38;5;241m=\u001b[39m _refine_defaults_read(\n\u001b[1;32m   1014\u001b[0m     dialect,\n\u001b[1;32m   1015\u001b[0m     delimiter,\n\u001b[0;32m   (...)\u001b[0m\n\u001b[1;32m   1022\u001b[0m     dtype_backend\u001b[38;5;241m=\u001b[39mdtype_backend,\n\u001b[1;32m   1023\u001b[0m )\n\u001b[1;32m   1024\u001b[0m kwds\u001b[38;5;241m.\u001b[39mupdate(kwds_defaults)\n\u001b[0;32m-> 1026\u001b[0m \u001b[38;5;28;01mreturn\u001b[39;00m \u001b[43m_read\u001b[49m\u001b[43m(\u001b[49m\u001b[43mfilepath_or_buffer\u001b[49m\u001b[43m,\u001b[49m\u001b[43m \u001b[49m\u001b[43mkwds\u001b[49m\u001b[43m)\u001b[49m\n",
      "File \u001b[0;32m~/Documents/01Founders/pandas/.ex00/lib/python3.12/site-packages/pandas/io/parsers/readers.py:626\u001b[0m, in \u001b[0;36m_read\u001b[0;34m(filepath_or_buffer, kwds)\u001b[0m\n\u001b[1;32m    623\u001b[0m     \u001b[38;5;28;01mreturn\u001b[39;00m parser\n\u001b[1;32m    625\u001b[0m \u001b[38;5;28;01mwith\u001b[39;00m parser:\n\u001b[0;32m--> 626\u001b[0m     \u001b[38;5;28;01mreturn\u001b[39;00m \u001b[43mparser\u001b[49m\u001b[38;5;241;43m.\u001b[39;49m\u001b[43mread\u001b[49m\u001b[43m(\u001b[49m\u001b[43mnrows\u001b[49m\u001b[43m)\u001b[49m\n",
      "File \u001b[0;32m~/Documents/01Founders/pandas/.ex00/lib/python3.12/site-packages/pandas/io/parsers/readers.py:1923\u001b[0m, in \u001b[0;36mTextFileReader.read\u001b[0;34m(self, nrows)\u001b[0m\n\u001b[1;32m   1916\u001b[0m nrows \u001b[38;5;241m=\u001b[39m validate_integer(\u001b[38;5;124m\"\u001b[39m\u001b[38;5;124mnrows\u001b[39m\u001b[38;5;124m\"\u001b[39m, nrows)\n\u001b[1;32m   1917\u001b[0m \u001b[38;5;28;01mtry\u001b[39;00m:\n\u001b[1;32m   1918\u001b[0m     \u001b[38;5;66;03m# error: \"ParserBase\" has no attribute \"read\"\u001b[39;00m\n\u001b[1;32m   1919\u001b[0m     (\n\u001b[1;32m   1920\u001b[0m         index,\n\u001b[1;32m   1921\u001b[0m         columns,\n\u001b[1;32m   1922\u001b[0m         col_dict,\n\u001b[0;32m-> 1923\u001b[0m     ) \u001b[38;5;241m=\u001b[39m \u001b[38;5;28;43mself\u001b[39;49m\u001b[38;5;241;43m.\u001b[39;49m\u001b[43m_engine\u001b[49m\u001b[38;5;241;43m.\u001b[39;49m\u001b[43mread\u001b[49m\u001b[43m(\u001b[49m\u001b[43m  \u001b[49m\u001b[38;5;66;43;03m# type: ignore[attr-defined]\u001b[39;49;00m\n\u001b[1;32m   1924\u001b[0m \u001b[43m        \u001b[49m\u001b[43mnrows\u001b[49m\n\u001b[1;32m   1925\u001b[0m \u001b[43m    \u001b[49m\u001b[43m)\u001b[49m\n\u001b[1;32m   1926\u001b[0m \u001b[38;5;28;01mexcept\u001b[39;00m \u001b[38;5;167;01mException\u001b[39;00m:\n\u001b[1;32m   1927\u001b[0m     \u001b[38;5;28mself\u001b[39m\u001b[38;5;241m.\u001b[39mclose()\n",
      "File \u001b[0;32m~/Documents/01Founders/pandas/.ex00/lib/python3.12/site-packages/pandas/io/parsers/c_parser_wrapper.py:234\u001b[0m, in \u001b[0;36mCParserWrapper.read\u001b[0;34m(self, nrows)\u001b[0m\n\u001b[1;32m    232\u001b[0m \u001b[38;5;28;01mtry\u001b[39;00m:\n\u001b[1;32m    233\u001b[0m     \u001b[38;5;28;01mif\u001b[39;00m \u001b[38;5;28mself\u001b[39m\u001b[38;5;241m.\u001b[39mlow_memory:\n\u001b[0;32m--> 234\u001b[0m         chunks \u001b[38;5;241m=\u001b[39m \u001b[38;5;28;43mself\u001b[39;49m\u001b[38;5;241;43m.\u001b[39;49m\u001b[43m_reader\u001b[49m\u001b[38;5;241;43m.\u001b[39;49m\u001b[43mread_low_memory\u001b[49m\u001b[43m(\u001b[49m\u001b[43mnrows\u001b[49m\u001b[43m)\u001b[49m\n\u001b[1;32m    235\u001b[0m         \u001b[38;5;66;03m# destructive to chunks\u001b[39;00m\n\u001b[1;32m    236\u001b[0m         data \u001b[38;5;241m=\u001b[39m _concatenate_chunks(chunks)\n",
      "File \u001b[0;32mparsers.pyx:838\u001b[0m, in \u001b[0;36mpandas._libs.parsers.TextReader.read_low_memory\u001b[0;34m()\u001b[0m\n",
      "File \u001b[0;32mparsers.pyx:905\u001b[0m, in \u001b[0;36mpandas._libs.parsers.TextReader._read_rows\u001b[0;34m()\u001b[0m\n",
      "File \u001b[0;32mparsers.pyx:874\u001b[0m, in \u001b[0;36mpandas._libs.parsers.TextReader._tokenize_rows\u001b[0;34m()\u001b[0m\n",
      "File \u001b[0;32mparsers.pyx:891\u001b[0m, in \u001b[0;36mpandas._libs.parsers.TextReader._check_tokenize_status\u001b[0;34m()\u001b[0m\n",
      "File \u001b[0;32mparsers.pyx:2061\u001b[0m, in \u001b[0;36mpandas._libs.parsers.raise_parser_error\u001b[0;34m()\u001b[0m\n",
      "\u001b[0;31mParserError\u001b[0m: Error tokenizing data. C error: Expected 1 fields in line 5, saw 2\n"
     ]
    }
   ],
   "source": [
    "# Exercise 3: E-commerce purchases\n",
    "\n",
    "import requests\n",
    "import csv\n",
    "from io import StringIO\n",
    "\n",
    "url = \"https://learn.01founders.co/git/root/public/src/branch/master/subjects/ai/pandas/data/Ecommerce_purchases.txt\"\n",
    "\n",
    "# Fetch the content using requests\n",
    "response = requests.get(url)\n",
    "response.raise_for_status()  # Raise an error if the request fails\n",
    "\n",
    "print(response.text[:500])  # Print first 500 characters to inspect the format\n",
    "\n",
    "\n",
    "# Use StringIO to treat the content as a file-like object for pandas to read\n",
    "# Specify quoting=csv.QUOTE_MINIMAL to handle multiline fields and ensure proper quoting\n",
    "# Read the response into a pandas dataframe\n",
    "ecommerce_df = pd.read_csv(StringIO(response.text), sep=\"\\n\")\n",
    "\n",
    "\n",
    "# Check the number of rows\n",
    "print(\"Number of rows (if this number isnt 10000 then youve failed):\")\n",
    "print(len(ecommerce_df))\n",
    "\n",
    "print(\"Number of columns (if this number isnt 14 then youve failed):\")\n",
    "num_columns = ecommerce_df.shape[1]\n",
    "print(f\"Number of columns: {num_columns}\")"
   ]
  }
 ],
 "metadata": {
  "kernelspec": {
   "display_name": ".ex00",
   "language": "python",
   "name": "python3"
  },
  "language_info": {
   "codemirror_mode": {
    "name": "ipython",
    "version": 3
   },
   "file_extension": ".py",
   "mimetype": "text/x-python",
   "name": "python",
   "nbconvert_exporter": "python",
   "pygments_lexer": "ipython3",
   "version": "3.12.3"
  }
 },
 "nbformat": 4,
 "nbformat_minor": 2
}
