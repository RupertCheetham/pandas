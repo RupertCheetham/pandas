{
 "cells": [
  {
   "cell_type": "markdown",
   "metadata": {},
   "source": [
    "This set of exercises focuses on using Pandas, a powerful library for data manipulation and analysis in Python. You'll learn to create and manipulate DataFrames, work with real-world datasets, handle missing values, and perform various data operations. The exercises cover key Pandas functionalities including data loading, cleaning, transformation, and basic analysis."
   ]
  },
  {
   "cell_type": "code",
   "execution_count": 54,
   "metadata": {},
   "outputs": [
    {
     "name": "stdout",
     "output_type": "stream",
     "text": [
      "2.2.2\n"
     ]
    }
   ],
   "source": [
    "import pandas as pd\n",
    "\n",
    "import numpy as np\n",
    "print(np.__version__)\n"
   ]
  },
  {
   "cell_type": "code",
   "execution_count": 55,
   "metadata": {},
   "outputs": [
    {
     "name": "stdout",
     "output_type": "stream",
     "text": [
      "1.1\n",
      "NumPy:\n",
      "DataFrame from NumPy array:\n",
      "   color     list number\n",
      "1   Blue   [1, 2]    1.1\n",
      "3    Red   [3, 4]    2.2\n",
      "5   Pink   [5, 6]    3.3\n",
      "7   Grey   [7, 8]    4.4\n",
      "9  Black  [9, 10]    5.5\n",
      "\n",
      "DataFrame from Pandas Series:\n",
      "   color     list  number\n",
      "1   Blue   [1, 2]     1.1\n",
      "3    Red   [3, 4]     2.2\n",
      "5   Pink   [5, 6]     3.3\n",
      "7   Grey   [7, 8]     4.4\n",
      "9  Black  [9, 10]     5.5 \n",
      "\n",
      "1.2\n",
      "First value types:\n",
      "<class 'pandas.core.series.Series'>\n",
      "<class 'pandas.core.series.Series'>\n",
      "<class 'pandas.core.series.Series'>\n",
      "\n",
      "First value types:\n",
      "<class 'str'> <class 'list'> <class 'numpy.float64'>\n"
     ]
    }
   ],
   "source": [
    "# 1.1\n",
    "print(1.1)\n",
    "print(\"NumPy:\")\n",
    "# Create a NumPy array\n",
    "data_np = np.array([\n",
    "    [\"Blue\", [1, 2], 1.1],\n",
    "    [\"Red\", [3, 4], 2.2],\n",
    "    [\"Pink\", [5, 6], 3.3],\n",
    "    [\"Grey\", [7, 8], 4.4],\n",
    "    [\"Black\", [9, 10], 5.5]\n",
    "], dtype=object)\n",
    "\n",
    "# Create DataFrame\n",
    "df_np = pd.DataFrame(\n",
    "    data_np,\n",
    "    columns=[\"color\", \"list\", \"number\"],\n",
    "    index=[1, 3, 5, 7, 9]\n",
    "    )\n",
    "\n",
    "print(\"DataFrame from NumPy array:\")\n",
    "print(df_np)\n",
    "\n",
    "# Create Series\n",
    "colors = pd.Series([\"Blue\", \"Red\", \"Pink\", \"Grey\", \"Black\"], index=[1, 3, 5, 7, 9])\n",
    "lists = pd.Series([[1, 2], [3, 4], [5, 6], [7, 8], [9, 10]], index=[1, 3, 5, 7, 9])\n",
    "numbers = pd.Series([1.1, 2.2, 3.3, 4.4, 5.5], index=[1, 3, 5, 7, 9])\n",
    "\n",
    "# Create DataFrame\n",
    "df_series = pd.DataFrame({\"color\": colors, \"list\": lists, \"number\": numbers})\n",
    "\n",
    "print(\"\\nDataFrame from Pandas Series:\")\n",
    "print(df_series, \"\\n\")\n",
    "\n",
    "# 1.2\n",
    "print(1.2)\n",
    "print(\"First value types:\")\n",
    "print(type(df_series[\"color\"]))  \n",
    "print(type(df_series[\"list\"]))  \n",
    "print(type(df_series[\"number\"])) \n",
    "\n",
    "print(\"\\nFirst value types:\")\n",
    "df_np[\"number\"] = df_np[\"number\"].astype(np.float64)\n",
    "print(type(df_np.iloc[0, 0]), type(df_np.iloc[0, 1]), type(df_np.iloc[0, 2]))\n",
    "\n"
   ]
  },
  {
   "cell_type": "code",
   "execution_count": null,
   "metadata": {},
   "outputs": [
    {
     "name": "stdout",
     "output_type": "stream",
     "text": [
      "2.1\n",
      "The axis parameter defaults to axis=1 for columns, so there's no need to explicitly specify it.\n",
      "\n",
      "2.2\n",
      "DatetimeIndex(['2006-12-16', '2006-12-16', '2006-12-16', '2006-12-16',\n",
      "               '2006-12-16'],\n",
      "              dtype='datetime64[ns]', name='Date', freq=None)\n"
     ]
    }
   ],
   "source": [
    "\n",
    "# Exercise 2: Electric power consumption\n",
    "\n",
    "url = \"https://assets.01-edu.org/ai-branch/piscine-ai/household_power_consumption.txt\"\n",
    "# Load the dataset\n",
    "df = pd.read_csv(url, delimiter=\";\", low_memory=False)\n",
    "df[\"Global_active_power\"] = pd.to_numeric(df[\"Global_active_power\"], errors=\"coerce\")\n",
    "df[\"Global_reactive_power\"] = pd.to_numeric(df[\"Global_reactive_power\"], errors=\"coerce\")\n",
    "df[\"Voltage\"] = pd.to_numeric(df[\"Voltage\"], errors=\"coerce\")\n",
    "\n",
    "\n",
    "\n",
    "\n",
    "# Delete the columns Time, Sub_metering_2 and Sub_metering_3\n",
    "print(2.1)\n",
    "df.drop(columns=[\"Time\", \"Sub_metering_2\", \"Sub_metering_3\"], inplace=True)\n",
    "print(\"The axis parameter defaults to axis=1 for columns, so there's no need to explicitly specify it.\")\n",
    "\n",
    "# Set Date as index\n",
    "print(\"\\n2.2\")\n",
    "# Convert 'Date' to datetime\n",
    "df[\"Date\"] = pd.to_datetime(df[\"Date\"], format=\"%d/%m/%Y\")\n",
    "# Set 'Date' as the index\n",
    "df.set_index(\"Date\", inplace=True)\n",
    "print(df.head().index)\n",
    "\n"
   ]
  },
  {
   "cell_type": "code",
   "execution_count": 59,
   "metadata": {},
   "outputs": [
    {
     "name": "stdout",
     "output_type": "stream",
     "text": [
      "3\n",
      "Global_active_power      float64\n",
      "Global_reactive_power    float64\n",
      "Voltage                  float64\n",
      "Global_intensity         float64\n",
      "Sub_metering_1           float64\n",
      "dtype: object\n"
     ]
    }
   ],
   "source": [
    "# Create a function that takes as input the DataFrame with the data set and returns a DataFrame with updated types:\n",
    "print(2.3)\n",
    "\n",
    "def update_types(df):\n",
    "    # Convert specific columns to their correct types\n",
    "    df[\"Global_active_power\"] = pd.to_numeric(df[\"Global_active_power\"], errors=\"coerce\")\n",
    "    df[\"Global_reactive_power\"] = pd.to_numeric(df[\"Global_reactive_power\"], errors=\"coerce\")\n",
    "    df[\"Global_intensity\"] = pd.to_numeric(df[\"Global_intensity\"], errors=\"coerce\")\n",
    "    df[\"Sub_metering_1\"] = pd.to_numeric(df[\"Sub_metering_1\"], errors=\"coerce\")\n",
    "    \n",
    "    return df\n",
    "\n",
    "df = update_types(df)\n",
    "print(df.dtypes)"
   ]
  },
  {
   "cell_type": "code",
   "execution_count": 58,
   "metadata": {},
   "outputs": [
    {
     "name": "stdout",
     "output_type": "stream",
     "text": [
      "4\n",
      "       Global_active_power  Global_reactive_power       Voltage  \\\n",
      "count         2.049280e+06           2.049280e+06  2.049280e+06   \n",
      "mean          1.091615e+00           1.237145e-01  2.408399e+02   \n",
      "std           1.057294e+00           1.127220e-01  3.239987e+00   \n",
      "min           7.600000e-02           0.000000e+00  2.232000e+02   \n",
      "25%           3.080000e-01           4.800000e-02  2.389900e+02   \n",
      "50%           6.020000e-01           1.000000e-01  2.410100e+02   \n",
      "75%           1.528000e+00           1.940000e-01  2.428900e+02   \n",
      "max           1.112200e+01           1.390000e+00  2.541500e+02   \n",
      "\n",
      "       Global_intensity  Sub_metering_1  \n",
      "count      2.049280e+06    2.049280e+06  \n",
      "mean       4.627759e+00    1.121923e+00  \n",
      "std        4.444396e+00    6.153031e+00  \n",
      "min        2.000000e-01    0.000000e+00  \n",
      "25%        1.400000e+00    0.000000e+00  \n",
      "50%        2.600000e+00    0.000000e+00  \n",
      "75%        6.400000e+00    0.000000e+00  \n",
      "max        4.840000e+01    8.800000e+01  \n"
     ]
    }
   ],
   "source": [
    "# Use describe to have an overview on the data set\n",
    "print(2.4)\n",
    "\n",
    "print(df.describe())\n"
   ]
  },
  {
   "cell_type": "code",
   "execution_count": 65,
   "metadata": {},
   "outputs": [
    {
     "name": "stdout",
     "output_type": "stream",
     "text": [
      "2.5\n",
      "number of missing values before dropna is: Global_active_power      0\n",
      "Global_reactive_power    0\n",
      "Voltage                  0\n",
      "Global_intensity         0\n",
      "Sub_metering_1           0\n",
      "dtype: int64 \n",
      "\n",
      "number of missing values after dropna is: Global_active_power      0\n",
      "Global_reactive_power    0\n",
      "Voltage                  0\n",
      "Global_intensity         0\n",
      "Sub_metering_1           0\n",
      "dtype: int64\n"
     ]
    }
   ],
   "source": [
    "# Delete the rows with missing values\n",
    "print(2.5)\n",
    "print(\"number of missing values before dropna is:\", df.isna().sum(), \"\\n\")\n",
    "df.dropna(inplace=True)\n",
    "print(\"number of missing values after dropna is:\", df.isna().sum())"
   ]
  }
 ],
 "metadata": {
  "kernelspec": {
   "display_name": ".ex00",
   "language": "python",
   "name": "python3"
  },
  "language_info": {
   "codemirror_mode": {
    "name": "ipython",
    "version": 3
   },
   "file_extension": ".py",
   "mimetype": "text/x-python",
   "name": "python",
   "nbconvert_exporter": "python",
   "pygments_lexer": "ipython3",
   "version": "3.12.3"
  }
 },
 "nbformat": 4,
 "nbformat_minor": 2
}
