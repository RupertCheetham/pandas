{
 "cells": [
  {
   "cell_type": "markdown",
   "metadata": {},
   "source": [
    "This set of exercises focuses on using Pandas, a powerful library for data manipulation and analysis in Python. You'll learn to create and manipulate DataFrames, work with real-world datasets, handle missing values, and perform various data operations. The exercises cover key Pandas functionalities including data loading, cleaning, transformation, and basic analysis."
   ]
  },
  {
   "cell_type": "code",
   "execution_count": 61,
   "metadata": {},
   "outputs": [
    {
     "name": "stdout",
     "output_type": "stream",
     "text": [
      "2.2.2\n"
     ]
    }
   ],
   "source": [
    "import pandas as pd\n",
    "\n",
    "import numpy as np\n",
    "print(np.__version__)\n"
   ]
  },
  {
   "cell_type": "code",
   "execution_count": 62,
   "metadata": {},
   "outputs": [
    {
     "name": "stdout",
     "output_type": "stream",
     "text": [
      "1.1\n",
      "NumPy:\n",
      "DataFrame from NumPy array:\n",
      "   color     list number\n",
      "1   Blue   [1, 2]    1.1\n",
      "3    Red   [3, 4]    2.2\n",
      "5   Pink   [5, 6]    3.3\n",
      "7   Grey   [7, 8]    4.4\n",
      "9  Black  [9, 10]    5.5\n",
      "\n",
      "DataFrame from Pandas Series:\n",
      "   color     list  number\n",
      "1   Blue   [1, 2]     1.1\n",
      "3    Red   [3, 4]     2.2\n",
      "5   Pink   [5, 6]     3.3\n",
      "7   Grey   [7, 8]     4.4\n",
      "9  Black  [9, 10]     5.5 \n",
      "\n",
      "1.2\n",
      "First value types:\n",
      "<class 'pandas.core.series.Series'>\n",
      "<class 'pandas.core.series.Series'>\n",
      "<class 'pandas.core.series.Series'>\n",
      "\n",
      "First value types:\n",
      "<class 'str'> <class 'list'> <class 'numpy.float64'>\n"
     ]
    }
   ],
   "source": [
    "# 1.1\n",
    "print(1.1)\n",
    "print(\"NumPy:\")\n",
    "# Create a NumPy array\n",
    "data_np = np.array([\n",
    "    [\"Blue\", [1, 2], 1.1],\n",
    "    [\"Red\", [3, 4], 2.2],\n",
    "    [\"Pink\", [5, 6], 3.3],\n",
    "    [\"Grey\", [7, 8], 4.4],\n",
    "    [\"Black\", [9, 10], 5.5]\n",
    "], dtype=object)\n",
    "\n",
    "# Create DataFrame\n",
    "df_np = pd.DataFrame(\n",
    "    data_np,\n",
    "    columns=[\"color\", \"list\", \"number\"],\n",
    "    index=[1, 3, 5, 7, 9]\n",
    "    )\n",
    "\n",
    "print(\"DataFrame from NumPy array:\")\n",
    "print(df_np)\n",
    "\n",
    "# Create Series\n",
    "colors = pd.Series([\"Blue\", \"Red\", \"Pink\", \"Grey\", \"Black\"], index=[1, 3, 5, 7, 9])\n",
    "lists = pd.Series([[1, 2], [3, 4], [5, 6], [7, 8], [9, 10]], index=[1, 3, 5, 7, 9])\n",
    "numbers = pd.Series([1.1, 2.2, 3.3, 4.4, 5.5], index=[1, 3, 5, 7, 9])\n",
    "\n",
    "# Create DataFrame\n",
    "df_series = pd.DataFrame({\"color\": colors, \"list\": lists, \"number\": numbers})\n",
    "\n",
    "print(\"\\nDataFrame from Pandas Series:\")\n",
    "print(df_series, \"\\n\")\n",
    "\n",
    "# 1.2\n",
    "print(1.2)\n",
    "print(\"First value types:\")\n",
    "print(type(df_series[\"color\"]))  \n",
    "print(type(df_series[\"list\"]))  \n",
    "print(type(df_series[\"number\"])) \n",
    "\n",
    "print(\"\\nFirst value types:\")\n",
    "df_np[\"number\"] = df_np[\"number\"].astype(np.float64)\n",
    "print(type(df_np.iloc[0, 0]), type(df_np.iloc[0, 1]), type(df_np.iloc[0, 2]))\n",
    "\n"
   ]
  },
  {
   "cell_type": "code",
   "execution_count": 63,
   "metadata": {},
   "outputs": [
    {
     "name": "stdout",
     "output_type": "stream",
     "text": [
      "2.1\n",
      "The axis parameter defaults to axis=1 for columns, so there's no need to explicitly specify it.\n",
      "\n",
      "2.2\n",
      "DatetimeIndex(['2006-12-16', '2006-12-16', '2006-12-16', '2006-12-16',\n",
      "               '2006-12-16'],\n",
      "              dtype='datetime64[ns]', name='Date', freq=None)\n"
     ]
    }
   ],
   "source": [
    "\n",
    "# Exercise 2: Electric power consumption\n",
    "\n",
    "url = \"https://assets.01-edu.org/ai-branch/piscine-ai/household_power_consumption.txt\"\n",
    "# Load the dataset\n",
    "df = pd.read_csv(url, delimiter=\";\", low_memory=False)\n",
    "df[\"Global_active_power\"] = pd.to_numeric(df[\"Global_active_power\"], errors=\"coerce\")\n",
    "df[\"Global_reactive_power\"] = pd.to_numeric(df[\"Global_reactive_power\"], errors=\"coerce\")\n",
    "df[\"Voltage\"] = pd.to_numeric(df[\"Voltage\"], errors=\"coerce\")\n",
    "\n",
    "\n",
    "\n",
    "\n",
    "# Delete the columns Time, Sub_metering_2 and Sub_metering_3\n",
    "print(2.1)\n",
    "df.drop(columns=[\"Time\", \"Sub_metering_2\", \"Sub_metering_3\"], inplace=True)\n",
    "print(\"The axis parameter defaults to axis=1 for columns, so there's no need to explicitly specify it.\")\n",
    "\n",
    "# Set Date as index\n",
    "print(\"\\n2.2\")\n",
    "# Convert 'Date' to datetime\n",
    "df[\"Date\"] = pd.to_datetime(df[\"Date\"], format=\"%d/%m/%Y\")\n",
    "# Set 'Date' as the index\n",
    "df.set_index(\"Date\", inplace=True)\n",
    "print(df.head().index)\n",
    "\n"
   ]
  },
  {
   "cell_type": "code",
   "execution_count": 64,
   "metadata": {},
   "outputs": [
    {
     "name": "stdout",
     "output_type": "stream",
     "text": [
      "2.3\n",
      "Global_active_power      float64\n",
      "Global_reactive_power    float64\n",
      "Voltage                  float64\n",
      "Global_intensity         float64\n",
      "Sub_metering_1           float64\n",
      "dtype: object\n"
     ]
    }
   ],
   "source": [
    "# Create a function that takes as input the DataFrame with the data set and returns a DataFrame with updated types:\n",
    "print(2.3)\n",
    "\n",
    "def update_types(df):\n",
    "    # Convert specific columns to their correct types\n",
    "    df[\"Global_active_power\"] = pd.to_numeric(df[\"Global_active_power\"], errors=\"coerce\")\n",
    "    df[\"Global_reactive_power\"] = pd.to_numeric(df[\"Global_reactive_power\"], errors=\"coerce\")\n",
    "    df[\"Global_intensity\"] = pd.to_numeric(df[\"Global_intensity\"], errors=\"coerce\")\n",
    "    df[\"Sub_metering_1\"] = pd.to_numeric(df[\"Sub_metering_1\"], errors=\"coerce\")\n",
    "    \n",
    "    return df\n",
    "\n",
    "df = update_types(df)\n",
    "print(df.dtypes)"
   ]
  },
  {
   "cell_type": "code",
   "execution_count": 65,
   "metadata": {},
   "outputs": [
    {
     "name": "stdout",
     "output_type": "stream",
     "text": [
      "2.4\n",
      "       Global_active_power  Global_reactive_power       Voltage  \\\n",
      "count         2.049280e+06           2.049280e+06  2.049280e+06   \n",
      "mean          1.091615e+00           1.237145e-01  2.408399e+02   \n",
      "std           1.057294e+00           1.127220e-01  3.239987e+00   \n",
      "min           7.600000e-02           0.000000e+00  2.232000e+02   \n",
      "25%           3.080000e-01           4.800000e-02  2.389900e+02   \n",
      "50%           6.020000e-01           1.000000e-01  2.410100e+02   \n",
      "75%           1.528000e+00           1.940000e-01  2.428900e+02   \n",
      "max           1.112200e+01           1.390000e+00  2.541500e+02   \n",
      "\n",
      "       Global_intensity  Sub_metering_1  \n",
      "count      2.049280e+06    2.049280e+06  \n",
      "mean       4.627759e+00    1.121923e+00  \n",
      "std        4.444396e+00    6.153031e+00  \n",
      "min        2.000000e-01    0.000000e+00  \n",
      "25%        1.400000e+00    0.000000e+00  \n",
      "50%        2.600000e+00    0.000000e+00  \n",
      "75%        6.400000e+00    0.000000e+00  \n",
      "max        4.840000e+01    8.800000e+01  \n"
     ]
    }
   ],
   "source": [
    "# Use describe to have an overview on the data set\n",
    "print(2.4)\n",
    "\n",
    "print(df.describe())\n"
   ]
  },
  {
   "cell_type": "code",
   "execution_count": 66,
   "metadata": {},
   "outputs": [
    {
     "name": "stdout",
     "output_type": "stream",
     "text": [
      "2.5\n",
      "number of missing values before dropna is: Global_active_power      25979\n",
      "Global_reactive_power    25979\n",
      "Voltage                  25979\n",
      "Global_intensity         25979\n",
      "Sub_metering_1           25979\n",
      "dtype: int64 \n",
      "\n",
      "number of missing values after dropna is: Global_active_power      0\n",
      "Global_reactive_power    0\n",
      "Voltage                  0\n",
      "Global_intensity         0\n",
      "Sub_metering_1           0\n",
      "dtype: int64\n"
     ]
    }
   ],
   "source": [
    "# Delete the rows with missing values\n",
    "print(2.5)\n",
    "print(\"number of missing values before dropna is:\", df.isna().sum(), \"\\n\")\n",
    "df.dropna(inplace=True)\n",
    "print(\"number of missing values after dropna is:\", df.isna().sum())"
   ]
  },
  {
   "cell_type": "code",
   "execution_count": 67,
   "metadata": {},
   "outputs": [
    {
     "name": "stdout",
     "output_type": "stream",
     "text": [
      "2.6\n",
      "Date\n",
      "2006-12-16    0.06\n",
      "2006-12-16    0.06\n",
      "2006-12-16    0.06\n",
      "2006-12-16    0.06\n",
      "2006-12-16    0.06\n",
      "              ... \n",
      "2010-11-26    0.06\n",
      "2010-11-26    0.06\n",
      "2010-11-26    0.06\n",
      "2010-11-26    0.06\n",
      "2010-11-26    0.06\n",
      "Name: Sub_metering_1, Length: 2049280, dtype: float64\n"
     ]
    }
   ],
   "source": [
    "# Modify Sub_metering_1 by adding 1 to it and multiplying the total by 0.06. If x is a row the output is: (x+1)*0.06\n",
    "print(2.6)\n",
    "df.loc[:,'Sub_metering_1'] = (df['Sub_metering_1'] + 1) * 0.06\n",
    "\n",
    "print(df.loc[:,'Sub_metering_1'])"
   ]
  },
  {
   "cell_type": "code",
   "execution_count": 68,
   "metadata": {},
   "outputs": [
    {
     "name": "stdout",
     "output_type": "stream",
     "text": [
      "2.7\n"
     ]
    },
    {
     "name": "stdout",
     "output_type": "stream",
     "text": [
      "| Date                |   Global_active_power |   Global_reactive_power |   Voltage |   Global_intensity |   Sub_metering_1 |\n",
      "|:--------------------|----------------------:|------------------------:|----------:|-------------------:|-----------------:|\n",
      "| 2008-12-27 00:00:00 |                 0.996 |                   0.066 |    244.81 |                4   |             0.06 |\n",
      "| 2008-12-27 00:00:00 |                 1.076 |                   0.162 |    244.78 |                4.4 |             0.06 |\n",
      "| 2008-12-27 00:00:00 |                 1.064 |                   0.172 |    244.74 |                4.4 |             0.06 |\n",
      "| 2008-12-27 00:00:00 |                 1.07  |                   0.174 |    245.28 |                4.4 |             0.06 |\n",
      "| 2008-12-27 00:00:00 |                 0.804 |                   0.184 |    246.3  |                3.4 |             0.06 |\n",
      "\n",
      "Number of rows in filtered_df is:  449667\n"
     ]
    }
   ],
   "source": [
    "# Select all the rows for which the Date is greater or equal than 2008-12-27 and Voltage is greater or equal than 242\n",
    "print(2.7)\n",
    "# Ensure index is in datetime format\n",
    "df.index = pd.to_datetime(df.index, format=\"%d/%m/%Y\")\n",
    "\n",
    "# Filter rows where Date >= '2008-12-27' and Voltage >= 242\n",
    "filtered_df = df.loc[(df.index >= \"2008-12-27\") & (df[\"Voltage\"] >= 242)]\n",
    "\n",
    "print(filtered_df.head().to_markdown())\n",
    "print(\"\\nNumber of rows in filtered_df is: \", len(filtered_df))\n"
   ]
  },
  {
   "cell_type": "code",
   "execution_count": 69,
   "metadata": {},
   "outputs": [
    {
     "name": "stdout",
     "output_type": "stream",
     "text": [
      "2.8\n",
      "Global_active_power        0.254\n",
      "Global_reactive_power      0.000\n",
      "Voltage                  238.100\n",
      "Global_intensity           1.200\n",
      "Sub_metering_1             0.060\n",
      "Name: 2007-02-16 00:00:00, dtype: float64\n"
     ]
    }
   ],
   "source": [
    "# Print the 88888th row.\n",
    "print(2.8)\n",
    "\n",
    "print(df.iloc[88887])"
   ]
  },
  {
   "cell_type": "code",
   "execution_count": 70,
   "metadata": {},
   "outputs": [
    {
     "name": "stdout",
     "output_type": "stream",
     "text": [
      "2.9\n",
      "2009-02-22 00:00:00\n"
     ]
    }
   ],
   "source": [
    "# What is the date for which the Global_active_power is maximal ?\n",
    "print(2.9)\n",
    "\n",
    "# Find the date with the maximal value for 'Global_active_power'\n",
    "max_global_active_power_row = df.loc[df[\"Global_active_power\"].idxmax()]\n",
    "\n",
    "# Extract the date corresponding to the maximal global active power\n",
    "max_global_active_power_date = max_global_active_power_row.index\n",
    "print(max_global_active_power_date[0])\n"
   ]
  },
  {
   "cell_type": "code",
   "execution_count": 71,
   "metadata": {},
   "outputs": [
    {
     "name": "stdout",
     "output_type": "stream",
     "text": [
      "2.1\n",
      "| Date                |   Global_active_power |   Global_reactive_power |   Voltage |\n",
      "|:--------------------|----------------------:|------------------------:|----------:|\n",
      "| 2008-08-28 00:00:00 |                 0.076 |                       0 |    234.88 |\n",
      "| 2008-08-28 00:00:00 |                 0.076 |                       0 |    235.18 |\n",
      "| 2008-08-28 00:00:00 |                 0.076 |                       0 |    235.4  |\n",
      "| 2008-08-28 00:00:00 |                 0.076 |                       0 |    235.64 |\n",
      "| 2008-08-12 00:00:00 |                 0.076 |                       0 |    236.5  |\n"
     ]
    }
   ],
   "source": [
    "# Sort the first three columns by descending order of Global_active_power and ascending order of Voltage.\n",
    "print(2.10)\n",
    "\n",
    "first_three_columns = df.iloc[:, :3]\n",
    "# Sort the first three columns by descending order of 'Global_active_power' and ascending order of 'Voltage'\n",
    "sorted_df = first_three_columns.sort_values(by=[\"Global_active_power\", \"Voltage\"], ascending=[False, True])\n",
    "\n",
    "print(sorted_df.tail().to_markdown())\n",
    "\n"
   ]
  },
  {
   "cell_type": "code",
   "execution_count": 72,
   "metadata": {},
   "outputs": [
    {
     "name": "stdout",
     "output_type": "stream",
     "text": [
      "2.11\n",
      "Date\n",
      "2006-12-16    3.053475\n",
      "2006-12-17    2.354486\n",
      "2006-12-18    1.530435\n",
      "2006-12-19    1.157079\n",
      "2006-12-20    1.545658\n",
      "                ...   \n",
      "2010-11-22    1.417733\n",
      "2010-11-23    1.095511\n",
      "2010-11-24    1.247394\n",
      "2010-11-25    0.993864\n",
      "2010-11-26    1.178230\n",
      "Freq: D, Name: Global_active_power, Length: 1442, dtype: float64\n"
     ]
    }
   ],
   "source": [
    "# Compute the daily average of Global_active_power.\n",
    "print(2.11)\n",
    "# Compute the daily average of 'Global_active_power'\n",
    "daily_avg = df['Global_active_power'].resample('D').mean()\n",
    "\n",
    "# Print the result\n",
    "print(daily_avg)\n"
   ]
  },
  {
   "cell_type": "code",
   "execution_count": 73,
   "metadata": {},
   "outputs": [],
   "source": [
    "# Exercise 3: E-commerce purchases\n",
    "\n",
    "import csv\n",
    "\n",
    "fixed_lines = []\n",
    "with open(\"Ecommerce_purchases.txt\", \"r\", encoding=\"utf-8\") as file:\n",
    "    reader = csv.reader(file)\n",
    "    temp_row = []\n",
    "    \n",
    "    for row in reader:\n",
    "        if len(row) < 14:  # If the row is incomplete, assume it's a split address\n",
    "            temp_row += row  # Merge with the next line\n",
    "        else:\n",
    "            temp_row = row  # Normal row\n",
    "        if len(temp_row) == 14:  # Only add complete rows\n",
    "            fixed_lines.append(temp_row)\n",
    "            temp_row = []\n",
    "            \n",
    "# Save fixed data\n",
    "with open(\"ecommerce_fixed.csv\", \"w\", encoding=\"utf-8\", newline=\"\") as file:\n",
    "    writer = csv.writer(file)\n",
    "    writer.writerows(fixed_lines)\n",
    "\n",
    "# Load into pandas\n",
    "ecommerce_df = pd.read_csv(\"ecommerce_fixed.csv\")\n",
    "\n",
    "\n"
   ]
  },
  {
   "cell_type": "code",
   "execution_count": 74,
   "metadata": {},
   "outputs": [
    {
     "name": "stdout",
     "output_type": "stream",
     "text": [
      "3.1\n",
      "Number of columns: 14\n",
      "Number of entries: 10000\n"
     ]
    }
   ],
   "source": [
    "# How many rows and columns are there?\n",
    "print(3.1)\n",
    "print(f\"Number of columns: {ecommerce_df.shape[1]}\")\n",
    "print(\"Number of entries:\",len(ecommerce_df))"
   ]
  },
  {
   "cell_type": "code",
   "execution_count": 75,
   "metadata": {},
   "outputs": [
    {
     "name": "stdout",
     "output_type": "stream",
     "text": [
      "3.2\n",
      "The average Purchase Price is:\n",
      "50.347302\n"
     ]
    }
   ],
   "source": [
    "# What is the average Purchase Price?\n",
    "print(3.2)\n",
    "print(\"The average Purchase Price is:\")\n",
    "print(ecommerce_df['Purchase Price'].mean())\n"
   ]
  },
  {
   "cell_type": "code",
   "execution_count": 76,
   "metadata": {},
   "outputs": [
    {
     "name": "stdout",
     "output_type": "stream",
     "text": [
      "3.3\n",
      "The highest Purchase Price is:\n",
      "99.99\n",
      "The lowest Purchase Price is:\n",
      "0.0\n"
     ]
    }
   ],
   "source": [
    "# What were the highest and lowest purchase prices?\n",
    "print(3.3)\n",
    "print(\"The highest Purchase Price is:\")\n",
    "print(ecommerce_df['Purchase Price'].max())\n",
    "print(\"The lowest Purchase Price is:\")\n",
    "print(ecommerce_df['Purchase Price'].min())"
   ]
  },
  {
   "cell_type": "code",
   "execution_count": null,
   "metadata": {},
   "outputs": [
    {
     "name": "stdout",
     "output_type": "stream",
     "text": [
      "3.4\n",
      "Number of people with English ('en') as their language: 1098\n",
      "1715\n"
     ]
    }
   ],
   "source": [
    "# How many people have English 'en' as their Language of choice on the website?\n",
    "print(3.4)\n",
    "num_english_speakers = ecommerce_df[ecommerce_df[\"Language\"] == \"en\"].shape[0]\n",
    "print(f\"Number of people with English ('en') as their language: {num_english_speakers}\")"
   ]
  },
  {
   "cell_type": "code",
   "execution_count": 79,
   "metadata": {},
   "outputs": [
    {
     "name": "stdout",
     "output_type": "stream",
     "text": [
      "3.4\n",
      "Number of people who have the job title of Lawyer: 30\n"
     ]
    }
   ],
   "source": [
    "# How many people have the job title of \"Lawyer\" ?\n",
    "print(3.5)\n",
    "num_of_lawyers = ecommerce_df[ecommerce_df[\"Job\"] == \"Lawyer\"].shape[0]\n",
    "print(f\"Number of people who have the job title of Lawyer: {num_of_lawyers}\")"
   ]
  },
  {
   "cell_type": "code",
   "execution_count": 82,
   "metadata": {},
   "outputs": [
    {
     "name": "stdout",
     "output_type": "stream",
     "text": [
      "3.6\n",
      "AM Purchases: 4932\n",
      "PM Purchases: 5068\n"
     ]
    }
   ],
   "source": [
    "# How many people made the purchase during the AM and how many people made the purchase during PM ?\n",
    "print(3.6)\n",
    "purchase_counts = ecommerce_df[\"AM or PM\"].value_counts()\n",
    "am_count = purchase_counts.get(\"AM\", 0)\n",
    "pm_count = purchase_counts.get(\"PM\", 0)\n",
    "\n",
    "print(f\"AM Purchases: {am_count}\")\n",
    "print(f\"PM Purchases: {pm_count}\")"
   ]
  },
  {
   "cell_type": "code",
   "execution_count": 83,
   "metadata": {},
   "outputs": [
    {
     "name": "stdout",
     "output_type": "stream",
     "text": [
      "3.7\n",
      "Job\n",
      "Interior and spatial designer    31\n",
      "Lawyer                           30\n",
      "Social researcher                28\n",
      "Purchasing manager               27\n",
      "Designer, jewellery              27\n",
      "Name: count, dtype: int64\n"
     ]
    }
   ],
   "source": [
    "# What are the 5 most common Job Titles?\n",
    "print(3.7)\n",
    "job_counts = ecommerce_df[\"Job\"].value_counts()\n",
    "\n",
    "top_5_jobs = job_counts.head(5)\n",
    "print(top_5_jobs)\n"
   ]
  },
  {
   "cell_type": "code",
   "execution_count": 84,
   "metadata": {},
   "outputs": [
    {
     "name": "stdout",
     "output_type": "stream",
     "text": [
      "3.8\n",
      "Purchase Price for Lot '90 WT': 75.1\n"
     ]
    }
   ],
   "source": [
    "# Someone made a purchase that came from Lot: \"90 WT\" , what was the Purchase Price for this transaction?\n",
    "print(3.8)\n",
    "transaction = ecommerce_df[ecommerce_df[\"Lot\"] == \"90 WT\"]\n",
    "\n",
    "# Get the Purchase Price for that transaction\n",
    "purchase_price = transaction[\"Purchase Price\"].iloc[0]\n",
    "print(f\"Purchase Price for Lot '90 WT': {purchase_price}\")"
   ]
  },
  {
   "cell_type": "code",
   "execution_count": 86,
   "metadata": {},
   "outputs": [
    {
     "name": "stdout",
     "output_type": "stream",
     "text": [
      "3.9\n",
      "Email for CC number for Lot '4926535242672853': bondellen@williams-garza.com\n"
     ]
    }
   ],
   "source": [
    "# What is the email of the person with the following Credit Card Number: 4926535242672853 ?\n",
    "print(3.9)\n",
    "transaction = ecommerce_df[ecommerce_df[\"Credit Card\"] == 4926535242672853]\n",
    "\n",
    "# Get the Email for that transaction\n",
    "purchase_price = transaction[\"Email\"].iloc[0]\n",
    "print(f\"Email for CC number for Lot '4926535242672853': {purchase_price}\")"
   ]
  },
  {
   "cell_type": "code",
   "execution_count": 93,
   "metadata": {},
   "outputs": [
    {
     "name": "stdout",
     "output_type": "stream",
     "text": [
      "3.1\n",
      "American Express purchases over $95': 39\n"
     ]
    }
   ],
   "source": [
    "# How many people have American Express as their Credit Card Provider and made a purchase above $95 ?\n",
    "print(3.10)\n",
    "transactions_with_purchase_price_greater_than_95 = ecommerce_df[ecommerce_df[\"Purchase Price\"] > 95]\n",
    "\n",
    "# Get the Email for that transaction\n",
    "American_Express_transactions_over_95 = transactions_with_purchase_price_greater_than_95[transactions_with_purchase_price_greater_than_95[\"CC Provider\"] == \"American Express\"]\n",
    "print(f\"American Express purchases over $95': {len(American_Express_transactions_over_95)}\")\n"
   ]
  }
 ],
 "metadata": {
  "kernelspec": {
   "display_name": ".ex00",
   "language": "python",
   "name": "python3"
  },
  "language_info": {
   "codemirror_mode": {
    "name": "ipython",
    "version": 3
   },
   "file_extension": ".py",
   "mimetype": "text/x-python",
   "name": "python",
   "nbconvert_exporter": "python",
   "pygments_lexer": "ipython3",
   "version": "3.12.3"
  }
 },
 "nbformat": 4,
 "nbformat_minor": 2
}
